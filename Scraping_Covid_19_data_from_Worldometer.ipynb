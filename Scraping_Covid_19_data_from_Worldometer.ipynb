{
  "nbformat": 4,
  "nbformat_minor": 0,
  "metadata": {
    "colab": {
      "name": "Scraping Covid 19 data from Worldometer.ipynb",
      "provenance": [],
      "collapsed_sections": [],
      "authorship_tag": "ABX9TyPV1WctT0T8/GdUoqQSvhcb",
      "include_colab_link": true
    },
    "kernelspec": {
      "name": "python3",
      "display_name": "Python 3"
    },
    "language_info": {
      "name": "python"
    }
  },
  "cells": [
    {
      "cell_type": "markdown",
      "metadata": {
        "id": "view-in-github",
        "colab_type": "text"
      },
      "source": [
        "<a href=\"https://colab.research.google.com/github/mostafa-khairy/Scraping-Covid-19-data-from-Worldometer/blob/main/Scraping_Covid_19_data_from_Worldometer.ipynb\" target=\"_parent\"><img src=\"https://colab.research.google.com/assets/colab-badge.svg\" alt=\"Open In Colab\"/></a>"
      ]
    },
    {
      "cell_type": "code",
      "execution_count": 372,
      "metadata": {
        "id": "tWeJ0BLZNjqG"
      },
      "outputs": [],
      "source": [
        "import requests \n",
        "from bs4 import BeautifulSoup \n",
        "\n",
        "import pandas as pd \n",
        "import numpy as np "
      ]
    },
    {
      "cell_type": "code",
      "source": [
        "url = 'https://www.worldometers.info/coronavirus/'\n",
        "response = requests.get(url)\n",
        "#response.status_code"
      ],
      "metadata": {
        "id": "3prpoKQwOG86"
      },
      "execution_count": 373,
      "outputs": []
    },
    {
      "cell_type": "code",
      "source": [
        "soup = BeautifulSoup( response.content)"
      ],
      "metadata": {
        "id": "uH3EX4E3OK-A"
      },
      "execution_count": 374,
      "outputs": []
    },
    {
      "cell_type": "code",
      "source": [
        "sections = soup.find_all('div',{'id':\"maincounter-wrap\"})\n",
        "sections\n",
        "\n",
        "#len(sections)"
      ],
      "metadata": {
        "colab": {
          "base_uri": "https://localhost:8080/"
        },
        "id": "M6RzzGo0VloK",
        "outputId": "80f0eacc-f3aa-46ba-a803-df4d02b3e8c4"
      },
      "execution_count": 375,
      "outputs": [
        {
          "output_type": "execute_result",
          "data": {
            "text/plain": [
              "[<div id=\"maincounter-wrap\" style=\"margin-top:15px\">\n",
              " <h1>Coronavirus Cases:</h1>\n",
              " <div class=\"maincounter-number\">\n",
              " <span style=\"color:#aaa\">506,097,600 </span>\n",
              " </div>\n",
              " </div>, <div id=\"maincounter-wrap\" style=\"margin-top:15px\">\n",
              " <h1>Deaths:</h1>\n",
              " <div class=\"maincounter-number\">\n",
              " <span>6,228,310</span>\n",
              " </div>\n",
              " </div>, <div id=\"maincounter-wrap\" style=\"margin-top:15px;\">\n",
              " <h1>Recovered:</h1>\n",
              " <div class=\"maincounter-number\" style=\"color:#8ACA2B \">\n",
              " <span>458,269,889</span>\n",
              " </div>\n",
              " </div>]"
            ]
          },
          "metadata": {},
          "execution_count": 375
        }
      ]
    },
    {
      "cell_type": "code",
      "source": [
        "first_sections = []"
      ],
      "metadata": {
        "id": "vW0k5i31p8TT"
      },
      "execution_count": 376,
      "outputs": []
    },
    {
      "cell_type": "code",
      "source": [
        "for i in range(len(sections)) :\n",
        "  first_sections.append(sections[i].text.replace('\\n',''))\n",
        "print(first_sections)"
      ],
      "metadata": {
        "colab": {
          "base_uri": "https://localhost:8080/"
        },
        "id": "kdGW20z9oZEX",
        "outputId": "a2cbf829-16d6-44df-a08a-145f52301a48"
      },
      "execution_count": 377,
      "outputs": [
        {
          "output_type": "stream",
          "name": "stdout",
          "text": [
            "['Coronavirus Cases:506,097,600 ', 'Deaths:6,228,310', 'Recovered:458,269,889']\n"
          ]
        }
      ]
    },
    {
      "cell_type": "code",
      "source": [
        "table  = soup.find('table', {'id':\"main_table_countries_today\"})\n",
        "#table"
      ],
      "metadata": {
        "id": "D-oVkaFSOLCH"
      },
      "execution_count": 378,
      "outputs": []
    },
    {
      "cell_type": "code",
      "source": [
        "header = []"
      ],
      "metadata": {
        "id": "ztfSawmp_UPG"
      },
      "execution_count": 379,
      "outputs": []
    },
    {
      "cell_type": "code",
      "source": [
        "for i in table.find_all('th') :\n",
        "  header.append(i.text.strip())"
      ],
      "metadata": {
        "id": "dHDFsC78ABh8"
      },
      "execution_count": 380,
      "outputs": []
    },
    {
      "cell_type": "code",
      "source": [
        "header"
      ],
      "metadata": {
        "colab": {
          "base_uri": "https://localhost:8080/"
        },
        "id": "V2N6D4IaAvvm",
        "outputId": "b7c06484-9d89-477c-a37f-cb1f293a60db"
      },
      "execution_count": 381,
      "outputs": [
        {
          "output_type": "execute_result",
          "data": {
            "text/plain": [
              "['#',\n",
              " 'Country,Other',\n",
              " 'TotalCases',\n",
              " 'NewCases',\n",
              " 'TotalDeaths',\n",
              " 'NewDeaths',\n",
              " 'TotalRecovered',\n",
              " 'NewRecovered',\n",
              " 'ActiveCases',\n",
              " 'Serious,Critical',\n",
              " 'Tot\\xa0Cases/1M pop',\n",
              " 'Deaths/1M pop',\n",
              " 'TotalTests',\n",
              " 'Tests/\\n1M pop',\n",
              " 'Population',\n",
              " 'Continent',\n",
              " '1 Caseevery X ppl',\n",
              " '1 Deathevery X ppl',\n",
              " '1 Testevery X ppl',\n",
              " 'New Cases/1M pop',\n",
              " 'New Deaths/1M pop',\n",
              " 'Active Cases/1M pop']"
            ]
          },
          "metadata": {},
          "execution_count": 381
        }
      ]
    },
    {
      "cell_type": "code",
      "source": [
        "len(header)"
      ],
      "metadata": {
        "colab": {
          "base_uri": "https://localhost:8080/"
        },
        "id": "6t7bLTiDDX5J",
        "outputId": "d2e200ae-9c17-45a5-bc5b-8c6fdb7246d3"
      },
      "execution_count": 382,
      "outputs": [
        {
          "output_type": "execute_result",
          "data": {
            "text/plain": [
              "22"
            ]
          },
          "metadata": {},
          "execution_count": 382
        }
      ]
    },
    {
      "cell_type": "code",
      "source": [
        "df = pd.DataFrame(columns=header)\n",
        "#df"
      ],
      "metadata": {
        "id": "eQwgImcfDuuM"
      },
      "execution_count": 383,
      "outputs": []
    },
    {
      "cell_type": "code",
      "source": [
        "for row in table.find_all('tr')[1:] :\n",
        "  data = row.find_all('td')\n",
        "  row_data = [td.text.strip() for td in data]\n",
        "  length = len(df)\n",
        "  df.loc[length] = row_data"
      ],
      "metadata": {
        "id": "p9BbtwyOFFFj"
      },
      "execution_count": 384,
      "outputs": []
    },
    {
      "cell_type": "code",
      "source": [
        "df = df.drop(df.index[:7])\n",
        "df = df.drop(df.index[-8:])\n",
        "df = df.drop(['1 Caseevery X ppl', '1 Deathevery X ppl', '1 Testevery X ppl', 'New Cases/1M pop', 'New Deaths/1M pop', 'Active Cases/1M pop'], axis=1)\n"
      ],
      "metadata": {
        "id": "LQtIgNqPH5aq"
      },
      "execution_count": 385,
      "outputs": []
    },
    {
      "cell_type": "code",
      "source": [
        "df.to_csv(\"Covid_data.csv\",index=False)\n"
      ],
      "metadata": {
        "id": "X0RieY8jL1P9"
      },
      "execution_count": 386,
      "outputs": []
    }
  ]
}