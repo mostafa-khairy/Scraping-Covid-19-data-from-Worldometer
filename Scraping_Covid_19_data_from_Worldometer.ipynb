{
  "nbformat": 4,
  "nbformat_minor": 0,
  "metadata": {
    "colab": {
      "name": "Scraping Covid 19 data from Worldometer.ipynb",
      "provenance": [],
      "collapsed_sections": [],
      "authorship_tag": "ABX9TyMmLxPv9G9XaZeXH97mBsOg",
      "include_colab_link": true
    },
    "kernelspec": {
      "name": "python3",
      "display_name": "Python 3"
    },
    "language_info": {
      "name": "python"
    }
  },
  "cells": [
    {
      "cell_type": "markdown",
      "metadata": {
        "id": "view-in-github",
        "colab_type": "text"
      },
      "source": [
        "<a href=\"https://colab.research.google.com/github/mostafa-khairy/Scraping-Covid-19-data-from-Worldometer/blob/main/Scraping_Covid_19_data_from_Worldometer.ipynb\" target=\"_parent\"><img src=\"https://colab.research.google.com/assets/colab-badge.svg\" alt=\"Open In Colab\"/></a>"
      ]
    },
    {
      "cell_type": "code",
      "execution_count": 277,
      "metadata": {
        "id": "tWeJ0BLZNjqG"
      },
      "outputs": [],
      "source": [
        "import requests \n",
        "from bs4 import BeautifulSoup \n",
        "\n",
        "import pandas as pd \n",
        "import numpy as np "
      ]
    },
    {
      "cell_type": "code",
      "source": [
        "url = 'https://www.worldometers.info/coronavirus/'\n",
        "response = requests.get(url)\n",
        "#response.status_code"
      ],
      "metadata": {
        "id": "3prpoKQwOG86",
        "colab": {
          "base_uri": "https://localhost:8080/"
        },
        "outputId": "223080f4-bacb-4e5b-ad35-f3b443b07a80"
      },
      "execution_count": 278,
      "outputs": [
        {
          "output_type": "execute_result",
          "data": {
            "text/plain": [
              "200"
            ]
          },
          "metadata": {},
          "execution_count": 278
        }
      ]
    },
    {
      "cell_type": "code",
      "source": [
        "soup = BeautifulSoup( response.content)"
      ],
      "metadata": {
        "id": "uH3EX4E3OK-A"
      },
      "execution_count": 279,
      "outputs": []
    },
    {
      "cell_type": "code",
      "source": [
        "sections = soup.find_all('div',{'id':\"maincounter-wrap\"})\n",
        "sections\n",
        "\n",
        "#len(sections)"
      ],
      "metadata": {
        "colab": {
          "base_uri": "https://localhost:8080/"
        },
        "id": "M6RzzGo0VloK",
        "outputId": "0a287fc2-07df-4659-bee2-193dfd0ce19f"
      },
      "execution_count": 280,
      "outputs": [
        {
          "output_type": "execute_result",
          "data": {
            "text/plain": [
              "[<div id=\"maincounter-wrap\" style=\"margin-top:15px\">\n",
              " <h1>Coronavirus Cases:</h1>\n",
              " <div class=\"maincounter-number\">\n",
              " <span style=\"color:#aaa\">506,083,080 </span>\n",
              " </div>\n",
              " </div>, <div id=\"maincounter-wrap\" style=\"margin-top:15px\">\n",
              " <h1>Deaths:</h1>\n",
              " <div class=\"maincounter-number\">\n",
              " <span>6,228,307</span>\n",
              " </div>\n",
              " </div>, <div id=\"maincounter-wrap\" style=\"margin-top:15px;\">\n",
              " <h1>Recovered:</h1>\n",
              " <div class=\"maincounter-number\" style=\"color:#8ACA2B \">\n",
              " <span>458,212,091</span>\n",
              " </div>\n",
              " </div>]"
            ]
          },
          "metadata": {},
          "execution_count": 280
        }
      ]
    },
    {
      "cell_type": "code",
      "source": [
        "first_sections = []"
      ],
      "metadata": {
        "id": "vW0k5i31p8TT"
      },
      "execution_count": 281,
      "outputs": []
    },
    {
      "cell_type": "code",
      "source": [
        "for i in range(len(sections)) :\n",
        "  first_sections.append(sections[i].text.replace('\\n',''))\n",
        "print(first_sections)"
      ],
      "metadata": {
        "colab": {
          "base_uri": "https://localhost:8080/"
        },
        "id": "kdGW20z9oZEX",
        "outputId": "d7bce0f1-217a-4b6c-d7c0-3216c8fc287b"
      },
      "execution_count": 282,
      "outputs": [
        {
          "output_type": "stream",
          "name": "stdout",
          "text": [
            "['Coronavirus Cases:506,083,080 ', 'Deaths:6,228,307', 'Recovered:458,212,091']\n"
          ]
        }
      ]
    },
    {
      "cell_type": "code",
      "source": [
        "table  = soup.find('table', {'id':\"main_table_countries_today\"})\n",
        "#table"
      ],
      "metadata": {
        "id": "D-oVkaFSOLCH"
      },
      "execution_count": 283,
      "outputs": []
    },
    {
      "cell_type": "code",
      "source": [
        "header = []"
      ],
      "metadata": {
        "id": "ztfSawmp_UPG"
      },
      "execution_count": 284,
      "outputs": []
    },
    {
      "cell_type": "code",
      "source": [
        "for i in table.find_all('th') :\n",
        "  header.append(i.text.strip())"
      ],
      "metadata": {
        "id": "dHDFsC78ABh8"
      },
      "execution_count": 285,
      "outputs": []
    },
    {
      "cell_type": "code",
      "source": [
        "header"
      ],
      "metadata": {
        "colab": {
          "base_uri": "https://localhost:8080/"
        },
        "id": "V2N6D4IaAvvm",
        "outputId": "385df54b-8b05-4da8-8cdd-0d39db6588e1"
      },
      "execution_count": 286,
      "outputs": [
        {
          "output_type": "execute_result",
          "data": {
            "text/plain": [
              "['#',\n",
              " 'Country,Other',\n",
              " 'TotalCases',\n",
              " 'NewCases',\n",
              " 'TotalDeaths',\n",
              " 'NewDeaths',\n",
              " 'TotalRecovered',\n",
              " 'NewRecovered',\n",
              " 'ActiveCases',\n",
              " 'Serious,Critical',\n",
              " 'Tot\\xa0Cases/1M pop',\n",
              " 'Deaths/1M pop',\n",
              " 'TotalTests',\n",
              " 'Tests/\\n1M pop',\n",
              " 'Population',\n",
              " 'Continent',\n",
              " '1 Caseevery X ppl',\n",
              " '1 Deathevery X ppl',\n",
              " '1 Testevery X ppl',\n",
              " 'New Cases/1M pop',\n",
              " 'New Deaths/1M pop',\n",
              " 'Active Cases/1M pop']"
            ]
          },
          "metadata": {},
          "execution_count": 286
        }
      ]
    },
    {
      "cell_type": "code",
      "source": [
        "len(header)"
      ],
      "metadata": {
        "colab": {
          "base_uri": "https://localhost:8080/"
        },
        "id": "6t7bLTiDDX5J",
        "outputId": "0d54dbfc-64c2-42ed-b60b-c155f18deca7"
      },
      "execution_count": 287,
      "outputs": [
        {
          "output_type": "execute_result",
          "data": {
            "text/plain": [
              "22"
            ]
          },
          "metadata": {},
          "execution_count": 287
        }
      ]
    },
    {
      "cell_type": "code",
      "source": [
        "df = pd.DataFrame(columns=header)\n",
        "#df"
      ],
      "metadata": {
        "id": "eQwgImcfDuuM"
      },
      "execution_count": 288,
      "outputs": []
    },
    {
      "cell_type": "code",
      "source": [
        "for row in table.find_all('tr')[1:] :\n",
        "  data = row.find_all('td')\n",
        "  row_data = [td.text.strip() for td in data]\n",
        "  length = len(df)\n",
        "  df.loc[length] = row_data"
      ],
      "metadata": {
        "id": "p9BbtwyOFFFj"
      },
      "execution_count": 289,
      "outputs": []
    },
    {
      "cell_type": "code",
      "source": [
        "df.tail(10)"
      ],
      "metadata": {
        "colab": {
          "base_uri": "https://localhost:8080/",
          "height": 491
        },
        "id": "sDUqMc0_H1a_",
        "outputId": "8985eaca-8073-412c-8583-396fefd9caa1"
      },
      "execution_count": 290,
      "outputs": [
        {
          "output_type": "execute_result",
          "data": {
            "text/plain": [
              "       # Country,Other   TotalCases  NewCases TotalDeaths NewDeaths  \\\n",
              "234  227    Micronesia            1                                   \n",
              "235  228         China      191,112    +2,761       4,655        +7   \n",
              "236             Total:   97,527,546    +1,438   1,453,797       +24   \n",
              "237             Total:  146,193,367  +172,253   1,417,183      +358   \n",
              "238             Total:   56,580,290             1,292,382             \n",
              "239             Total:  187,315,956             1,801,280             \n",
              "240             Total:    6,633,005   +48,108      10,091       +47   \n",
              "241             Total:   11,832,195               253,559             \n",
              "242             Total:          721                    15             \n",
              "243             Total:  506,083,080  +221,799   6,228,307      +429   \n",
              "\n",
              "    TotalRecovered NewRecovered ActiveCases Serious,Critical  ...  \\\n",
              "234              1                        0                   ...   \n",
              "235        155,684       +2,365      30,773              116  ...   \n",
              "236     93,669,936       +1,232   2,403,813            6,974  ...   \n",
              "237    124,516,804      +73,479  20,259,380           13,630  ...   \n",
              "238     52,621,348                2,666,560           11,010  ...   \n",
              "239    170,293,848               15,220,828            9,203  ...   \n",
              "240      6,048,226       +9,514     574,688              189  ...   \n",
              "241     11,061,223                  517,413              963  ...   \n",
              "242            706                        0                0  ...   \n",
              "243    458,212,091     +351,993  41,642,682           41,969  ...   \n",
              "\n",
              "      TotalTests Tests/\\n1M pop     Population          Continent  \\\n",
              "234                                    117,186  Australia/Oceania   \n",
              "235  160,000,000        111,163  1,439,323,776               Asia   \n",
              "236                                                 North America   \n",
              "237                                                          Asia   \n",
              "238                                                 South America   \n",
              "239                                                        Europe   \n",
              "240                                             Australia/Oceania   \n",
              "241                                                        Africa   \n",
              "242                                                                 \n",
              "243                                                           All   \n",
              "\n",
              "    1 Caseevery X ppl 1 Deathevery X ppl 1 Testevery X ppl New Cases/1M pop  \\\n",
              "234           117,186                                                         \n",
              "235             7,531            309,200                 9                2   \n",
              "236                                                                           \n",
              "237                                                                           \n",
              "238                                                                           \n",
              "239                                                                           \n",
              "240                                                                           \n",
              "241                                                                           \n",
              "242                                                                           \n",
              "243                                                                           \n",
              "\n",
              "    New Deaths/1M pop Active Cases/1M pop  \n",
              "234                                        \n",
              "235                                    21  \n",
              "236                                        \n",
              "237                                        \n",
              "238                                        \n",
              "239                                        \n",
              "240                                        \n",
              "241                                        \n",
              "242                                        \n",
              "243                                        \n",
              "\n",
              "[10 rows x 22 columns]"
            ],
            "text/html": [
              "\n",
              "  <div id=\"df-fb957940-88ac-4578-85e8-4b14dd5c8c9f\">\n",
              "    <div class=\"colab-df-container\">\n",
              "      <div>\n",
              "<style scoped>\n",
              "    .dataframe tbody tr th:only-of-type {\n",
              "        vertical-align: middle;\n",
              "    }\n",
              "\n",
              "    .dataframe tbody tr th {\n",
              "        vertical-align: top;\n",
              "    }\n",
              "\n",
              "    .dataframe thead th {\n",
              "        text-align: right;\n",
              "    }\n",
              "</style>\n",
              "<table border=\"1\" class=\"dataframe\">\n",
              "  <thead>\n",
              "    <tr style=\"text-align: right;\">\n",
              "      <th></th>\n",
              "      <th>#</th>\n",
              "      <th>Country,Other</th>\n",
              "      <th>TotalCases</th>\n",
              "      <th>NewCases</th>\n",
              "      <th>TotalDeaths</th>\n",
              "      <th>NewDeaths</th>\n",
              "      <th>TotalRecovered</th>\n",
              "      <th>NewRecovered</th>\n",
              "      <th>ActiveCases</th>\n",
              "      <th>Serious,Critical</th>\n",
              "      <th>...</th>\n",
              "      <th>TotalTests</th>\n",
              "      <th>Tests/\\n1M pop</th>\n",
              "      <th>Population</th>\n",
              "      <th>Continent</th>\n",
              "      <th>1 Caseevery X ppl</th>\n",
              "      <th>1 Deathevery X ppl</th>\n",
              "      <th>1 Testevery X ppl</th>\n",
              "      <th>New Cases/1M pop</th>\n",
              "      <th>New Deaths/1M pop</th>\n",
              "      <th>Active Cases/1M pop</th>\n",
              "    </tr>\n",
              "  </thead>\n",
              "  <tbody>\n",
              "    <tr>\n",
              "      <th>234</th>\n",
              "      <td>227</td>\n",
              "      <td>Micronesia</td>\n",
              "      <td>1</td>\n",
              "      <td></td>\n",
              "      <td></td>\n",
              "      <td></td>\n",
              "      <td>1</td>\n",
              "      <td></td>\n",
              "      <td>0</td>\n",
              "      <td></td>\n",
              "      <td>...</td>\n",
              "      <td></td>\n",
              "      <td></td>\n",
              "      <td>117,186</td>\n",
              "      <td>Australia/Oceania</td>\n",
              "      <td>117,186</td>\n",
              "      <td></td>\n",
              "      <td></td>\n",
              "      <td></td>\n",
              "      <td></td>\n",
              "      <td></td>\n",
              "    </tr>\n",
              "    <tr>\n",
              "      <th>235</th>\n",
              "      <td>228</td>\n",
              "      <td>China</td>\n",
              "      <td>191,112</td>\n",
              "      <td>+2,761</td>\n",
              "      <td>4,655</td>\n",
              "      <td>+7</td>\n",
              "      <td>155,684</td>\n",
              "      <td>+2,365</td>\n",
              "      <td>30,773</td>\n",
              "      <td>116</td>\n",
              "      <td>...</td>\n",
              "      <td>160,000,000</td>\n",
              "      <td>111,163</td>\n",
              "      <td>1,439,323,776</td>\n",
              "      <td>Asia</td>\n",
              "      <td>7,531</td>\n",
              "      <td>309,200</td>\n",
              "      <td>9</td>\n",
              "      <td>2</td>\n",
              "      <td></td>\n",
              "      <td>21</td>\n",
              "    </tr>\n",
              "    <tr>\n",
              "      <th>236</th>\n",
              "      <td></td>\n",
              "      <td>Total:</td>\n",
              "      <td>97,527,546</td>\n",
              "      <td>+1,438</td>\n",
              "      <td>1,453,797</td>\n",
              "      <td>+24</td>\n",
              "      <td>93,669,936</td>\n",
              "      <td>+1,232</td>\n",
              "      <td>2,403,813</td>\n",
              "      <td>6,974</td>\n",
              "      <td>...</td>\n",
              "      <td></td>\n",
              "      <td></td>\n",
              "      <td></td>\n",
              "      <td>North America</td>\n",
              "      <td></td>\n",
              "      <td></td>\n",
              "      <td></td>\n",
              "      <td></td>\n",
              "      <td></td>\n",
              "      <td></td>\n",
              "    </tr>\n",
              "    <tr>\n",
              "      <th>237</th>\n",
              "      <td></td>\n",
              "      <td>Total:</td>\n",
              "      <td>146,193,367</td>\n",
              "      <td>+172,253</td>\n",
              "      <td>1,417,183</td>\n",
              "      <td>+358</td>\n",
              "      <td>124,516,804</td>\n",
              "      <td>+73,479</td>\n",
              "      <td>20,259,380</td>\n",
              "      <td>13,630</td>\n",
              "      <td>...</td>\n",
              "      <td></td>\n",
              "      <td></td>\n",
              "      <td></td>\n",
              "      <td>Asia</td>\n",
              "      <td></td>\n",
              "      <td></td>\n",
              "      <td></td>\n",
              "      <td></td>\n",
              "      <td></td>\n",
              "      <td></td>\n",
              "    </tr>\n",
              "    <tr>\n",
              "      <th>238</th>\n",
              "      <td></td>\n",
              "      <td>Total:</td>\n",
              "      <td>56,580,290</td>\n",
              "      <td></td>\n",
              "      <td>1,292,382</td>\n",
              "      <td></td>\n",
              "      <td>52,621,348</td>\n",
              "      <td></td>\n",
              "      <td>2,666,560</td>\n",
              "      <td>11,010</td>\n",
              "      <td>...</td>\n",
              "      <td></td>\n",
              "      <td></td>\n",
              "      <td></td>\n",
              "      <td>South America</td>\n",
              "      <td></td>\n",
              "      <td></td>\n",
              "      <td></td>\n",
              "      <td></td>\n",
              "      <td></td>\n",
              "      <td></td>\n",
              "    </tr>\n",
              "    <tr>\n",
              "      <th>239</th>\n",
              "      <td></td>\n",
              "      <td>Total:</td>\n",
              "      <td>187,315,956</td>\n",
              "      <td></td>\n",
              "      <td>1,801,280</td>\n",
              "      <td></td>\n",
              "      <td>170,293,848</td>\n",
              "      <td></td>\n",
              "      <td>15,220,828</td>\n",
              "      <td>9,203</td>\n",
              "      <td>...</td>\n",
              "      <td></td>\n",
              "      <td></td>\n",
              "      <td></td>\n",
              "      <td>Europe</td>\n",
              "      <td></td>\n",
              "      <td></td>\n",
              "      <td></td>\n",
              "      <td></td>\n",
              "      <td></td>\n",
              "      <td></td>\n",
              "    </tr>\n",
              "    <tr>\n",
              "      <th>240</th>\n",
              "      <td></td>\n",
              "      <td>Total:</td>\n",
              "      <td>6,633,005</td>\n",
              "      <td>+48,108</td>\n",
              "      <td>10,091</td>\n",
              "      <td>+47</td>\n",
              "      <td>6,048,226</td>\n",
              "      <td>+9,514</td>\n",
              "      <td>574,688</td>\n",
              "      <td>189</td>\n",
              "      <td>...</td>\n",
              "      <td></td>\n",
              "      <td></td>\n",
              "      <td></td>\n",
              "      <td>Australia/Oceania</td>\n",
              "      <td></td>\n",
              "      <td></td>\n",
              "      <td></td>\n",
              "      <td></td>\n",
              "      <td></td>\n",
              "      <td></td>\n",
              "    </tr>\n",
              "    <tr>\n",
              "      <th>241</th>\n",
              "      <td></td>\n",
              "      <td>Total:</td>\n",
              "      <td>11,832,195</td>\n",
              "      <td></td>\n",
              "      <td>253,559</td>\n",
              "      <td></td>\n",
              "      <td>11,061,223</td>\n",
              "      <td></td>\n",
              "      <td>517,413</td>\n",
              "      <td>963</td>\n",
              "      <td>...</td>\n",
              "      <td></td>\n",
              "      <td></td>\n",
              "      <td></td>\n",
              "      <td>Africa</td>\n",
              "      <td></td>\n",
              "      <td></td>\n",
              "      <td></td>\n",
              "      <td></td>\n",
              "      <td></td>\n",
              "      <td></td>\n",
              "    </tr>\n",
              "    <tr>\n",
              "      <th>242</th>\n",
              "      <td></td>\n",
              "      <td>Total:</td>\n",
              "      <td>721</td>\n",
              "      <td></td>\n",
              "      <td>15</td>\n",
              "      <td></td>\n",
              "      <td>706</td>\n",
              "      <td></td>\n",
              "      <td>0</td>\n",
              "      <td>0</td>\n",
              "      <td>...</td>\n",
              "      <td></td>\n",
              "      <td></td>\n",
              "      <td></td>\n",
              "      <td></td>\n",
              "      <td></td>\n",
              "      <td></td>\n",
              "      <td></td>\n",
              "      <td></td>\n",
              "      <td></td>\n",
              "      <td></td>\n",
              "    </tr>\n",
              "    <tr>\n",
              "      <th>243</th>\n",
              "      <td></td>\n",
              "      <td>Total:</td>\n",
              "      <td>506,083,080</td>\n",
              "      <td>+221,799</td>\n",
              "      <td>6,228,307</td>\n",
              "      <td>+429</td>\n",
              "      <td>458,212,091</td>\n",
              "      <td>+351,993</td>\n",
              "      <td>41,642,682</td>\n",
              "      <td>41,969</td>\n",
              "      <td>...</td>\n",
              "      <td></td>\n",
              "      <td></td>\n",
              "      <td></td>\n",
              "      <td>All</td>\n",
              "      <td></td>\n",
              "      <td></td>\n",
              "      <td></td>\n",
              "      <td></td>\n",
              "      <td></td>\n",
              "      <td></td>\n",
              "    </tr>\n",
              "  </tbody>\n",
              "</table>\n",
              "<p>10 rows × 22 columns</p>\n",
              "</div>\n",
              "      <button class=\"colab-df-convert\" onclick=\"convertToInteractive('df-fb957940-88ac-4578-85e8-4b14dd5c8c9f')\"\n",
              "              title=\"Convert this dataframe to an interactive table.\"\n",
              "              style=\"display:none;\">\n",
              "        \n",
              "  <svg xmlns=\"http://www.w3.org/2000/svg\" height=\"24px\"viewBox=\"0 0 24 24\"\n",
              "       width=\"24px\">\n",
              "    <path d=\"M0 0h24v24H0V0z\" fill=\"none\"/>\n",
              "    <path d=\"M18.56 5.44l.94 2.06.94-2.06 2.06-.94-2.06-.94-.94-2.06-.94 2.06-2.06.94zm-11 1L8.5 8.5l.94-2.06 2.06-.94-2.06-.94L8.5 2.5l-.94 2.06-2.06.94zm10 10l.94 2.06.94-2.06 2.06-.94-2.06-.94-.94-2.06-.94 2.06-2.06.94z\"/><path d=\"M17.41 7.96l-1.37-1.37c-.4-.4-.92-.59-1.43-.59-.52 0-1.04.2-1.43.59L10.3 9.45l-7.72 7.72c-.78.78-.78 2.05 0 2.83L4 21.41c.39.39.9.59 1.41.59.51 0 1.02-.2 1.41-.59l7.78-7.78 2.81-2.81c.8-.78.8-2.07 0-2.86zM5.41 20L4 18.59l7.72-7.72 1.47 1.35L5.41 20z\"/>\n",
              "  </svg>\n",
              "      </button>\n",
              "      \n",
              "  <style>\n",
              "    .colab-df-container {\n",
              "      display:flex;\n",
              "      flex-wrap:wrap;\n",
              "      gap: 12px;\n",
              "    }\n",
              "\n",
              "    .colab-df-convert {\n",
              "      background-color: #E8F0FE;\n",
              "      border: none;\n",
              "      border-radius: 50%;\n",
              "      cursor: pointer;\n",
              "      display: none;\n",
              "      fill: #1967D2;\n",
              "      height: 32px;\n",
              "      padding: 0 0 0 0;\n",
              "      width: 32px;\n",
              "    }\n",
              "\n",
              "    .colab-df-convert:hover {\n",
              "      background-color: #E2EBFA;\n",
              "      box-shadow: 0px 1px 2px rgba(60, 64, 67, 0.3), 0px 1px 3px 1px rgba(60, 64, 67, 0.15);\n",
              "      fill: #174EA6;\n",
              "    }\n",
              "\n",
              "    [theme=dark] .colab-df-convert {\n",
              "      background-color: #3B4455;\n",
              "      fill: #D2E3FC;\n",
              "    }\n",
              "\n",
              "    [theme=dark] .colab-df-convert:hover {\n",
              "      background-color: #434B5C;\n",
              "      box-shadow: 0px 1px 3px 1px rgba(0, 0, 0, 0.15);\n",
              "      filter: drop-shadow(0px 1px 2px rgba(0, 0, 0, 0.3));\n",
              "      fill: #FFFFFF;\n",
              "    }\n",
              "  </style>\n",
              "\n",
              "      <script>\n",
              "        const buttonEl =\n",
              "          document.querySelector('#df-fb957940-88ac-4578-85e8-4b14dd5c8c9f button.colab-df-convert');\n",
              "        buttonEl.style.display =\n",
              "          google.colab.kernel.accessAllowed ? 'block' : 'none';\n",
              "\n",
              "        async function convertToInteractive(key) {\n",
              "          const element = document.querySelector('#df-fb957940-88ac-4578-85e8-4b14dd5c8c9f');\n",
              "          const dataTable =\n",
              "            await google.colab.kernel.invokeFunction('convertToInteractive',\n",
              "                                                     [key], {});\n",
              "          if (!dataTable) return;\n",
              "\n",
              "          const docLinkHtml = 'Like what you see? Visit the ' +\n",
              "            '<a target=\"_blank\" href=https://colab.research.google.com/notebooks/data_table.ipynb>data table notebook</a>'\n",
              "            + ' to learn more about interactive tables.';\n",
              "          element.innerHTML = '';\n",
              "          dataTable['output_type'] = 'display_data';\n",
              "          await google.colab.output.renderOutput(dataTable, element);\n",
              "          const docLink = document.createElement('div');\n",
              "          docLink.innerHTML = docLinkHtml;\n",
              "          element.appendChild(docLink);\n",
              "        }\n",
              "      </script>\n",
              "    </div>\n",
              "  </div>\n",
              "  "
            ]
          },
          "metadata": {},
          "execution_count": 290
        }
      ]
    },
    {
      "cell_type": "code",
      "source": [
        "df = df.drop(df.index[:7])\n",
        "df = df.drop(df.index[-8:])\n",
        "df = df.drop(['1 Caseevery X ppl', '1 Deathevery X ppl', '1 Testevery X ppl', 'New Cases/1M pop', 'New Deaths/1M pop', 'Active Cases/1M pop'], axis=1)\n"
      ],
      "metadata": {
        "id": "LQtIgNqPH5aq"
      },
      "execution_count": 291,
      "outputs": []
    },
    {
      "cell_type": "code",
      "source": [
        "df.to_csv(\"Covid_data.csv\",index=False)\n"
      ],
      "metadata": {
        "id": "X0RieY8jL1P9"
      },
      "execution_count": 292,
      "outputs": []
    }
  ]
}